{
 "cells": [
  {
   "cell_type": "markdown",
   "id": "6a7ad310",
   "metadata": {},
   "source": [
    "Hind Ali  "
   ]
  },
  {
   "cell_type": "markdown",
   "id": "eba34907",
   "metadata": {},
   "source": [
    "Import the Data set (Email spam classification)"
   ]
  },
  {
   "cell_type": "code",
   "execution_count": 1,
   "id": "b842a6e3",
   "metadata": {},
   "outputs": [],
   "source": [
    "import pandas as pd"
   ]
  },
  {
   "cell_type": "code",
   "execution_count": 2,
   "id": "d61f7158",
   "metadata": {},
   "outputs": [],
   "source": [
    "df = pd.read_excel('Email spam classification.xlsx')"
   ]
  },
  {
   "cell_type": "code",
   "execution_count": 3,
   "id": "f13a5dde",
   "metadata": {},
   "outputs": [
    {
     "data": {
      "text/html": [
       "<div>\n",
       "<style scoped>\n",
       "    .dataframe tbody tr th:only-of-type {\n",
       "        vertical-align: middle;\n",
       "    }\n",
       "\n",
       "    .dataframe tbody tr th {\n",
       "        vertical-align: top;\n",
       "    }\n",
       "\n",
       "    .dataframe thead th {\n",
       "        text-align: right;\n",
       "    }\n",
       "</style>\n",
       "<table border=\"1\" class=\"dataframe\">\n",
       "  <thead>\n",
       "    <tr style=\"text-align: right;\">\n",
       "      <th></th>\n",
       "      <th>v1</th>\n",
       "      <th>v2</th>\n",
       "      <th>Unnamed: 2</th>\n",
       "      <th>Unnamed: 3</th>\n",
       "      <th>Unnamed: 4</th>\n",
       "    </tr>\n",
       "  </thead>\n",
       "  <tbody>\n",
       "    <tr>\n",
       "      <th>0</th>\n",
       "      <td>ham</td>\n",
       "      <td>Go until jurong point, crazy.. Available only ...</td>\n",
       "      <td>NaN</td>\n",
       "      <td>NaN</td>\n",
       "      <td>NaN</td>\n",
       "    </tr>\n",
       "    <tr>\n",
       "      <th>1</th>\n",
       "      <td>ham</td>\n",
       "      <td>Ok lar... Joking wif u oni...</td>\n",
       "      <td>NaN</td>\n",
       "      <td>NaN</td>\n",
       "      <td>NaN</td>\n",
       "    </tr>\n",
       "    <tr>\n",
       "      <th>2</th>\n",
       "      <td>spam</td>\n",
       "      <td>Free entry in 2 a wkly comp to win FA Cup fina...</td>\n",
       "      <td>NaN</td>\n",
       "      <td>NaN</td>\n",
       "      <td>NaN</td>\n",
       "    </tr>\n",
       "    <tr>\n",
       "      <th>3</th>\n",
       "      <td>ham</td>\n",
       "      <td>U dun say so early hor... U c already then say...</td>\n",
       "      <td>NaN</td>\n",
       "      <td>NaN</td>\n",
       "      <td>NaN</td>\n",
       "    </tr>\n",
       "    <tr>\n",
       "      <th>4</th>\n",
       "      <td>ham</td>\n",
       "      <td>Nah I don't think he goes to usf, he lives aro...</td>\n",
       "      <td>NaN</td>\n",
       "      <td>NaN</td>\n",
       "      <td>NaN</td>\n",
       "    </tr>\n",
       "  </tbody>\n",
       "</table>\n",
       "</div>"
      ],
      "text/plain": [
       "     v1                                                 v2 Unnamed: 2  \\\n",
       "0   ham  Go until jurong point, crazy.. Available only ...        NaN   \n",
       "1   ham                      Ok lar... Joking wif u oni...        NaN   \n",
       "2  spam  Free entry in 2 a wkly comp to win FA Cup fina...        NaN   \n",
       "3   ham  U dun say so early hor... U c already then say...        NaN   \n",
       "4   ham  Nah I don't think he goes to usf, he lives aro...        NaN   \n",
       "\n",
       "  Unnamed: 3 Unnamed: 4  \n",
       "0        NaN        NaN  \n",
       "1        NaN        NaN  \n",
       "2        NaN        NaN  \n",
       "3        NaN        NaN  \n",
       "4        NaN        NaN  "
      ]
     },
     "execution_count": 3,
     "metadata": {},
     "output_type": "execute_result"
    }
   ],
   "source": [
    "df.head()"
   ]
  },
  {
   "cell_type": "code",
   "execution_count": 4,
   "id": "f6a4e61a",
   "metadata": {},
   "outputs": [],
   "source": [
    "df.drop(['Unnamed: 2','Unnamed: 3','Unnamed: 4'], axis=1, inplace=True)"
   ]
  },
  {
   "cell_type": "code",
   "execution_count": 5,
   "id": "723258bb",
   "metadata": {},
   "outputs": [
    {
     "data": {
      "text/html": [
       "<div>\n",
       "<style scoped>\n",
       "    .dataframe tbody tr th:only-of-type {\n",
       "        vertical-align: middle;\n",
       "    }\n",
       "\n",
       "    .dataframe tbody tr th {\n",
       "        vertical-align: top;\n",
       "    }\n",
       "\n",
       "    .dataframe thead th {\n",
       "        text-align: right;\n",
       "    }\n",
       "</style>\n",
       "<table border=\"1\" class=\"dataframe\">\n",
       "  <thead>\n",
       "    <tr style=\"text-align: right;\">\n",
       "      <th></th>\n",
       "      <th>v1</th>\n",
       "      <th>v2</th>\n",
       "    </tr>\n",
       "  </thead>\n",
       "  <tbody>\n",
       "    <tr>\n",
       "      <th>0</th>\n",
       "      <td>ham</td>\n",
       "      <td>Go until jurong point, crazy.. Available only ...</td>\n",
       "    </tr>\n",
       "    <tr>\n",
       "      <th>1</th>\n",
       "      <td>ham</td>\n",
       "      <td>Ok lar... Joking wif u oni...</td>\n",
       "    </tr>\n",
       "    <tr>\n",
       "      <th>2</th>\n",
       "      <td>spam</td>\n",
       "      <td>Free entry in 2 a wkly comp to win FA Cup fina...</td>\n",
       "    </tr>\n",
       "    <tr>\n",
       "      <th>3</th>\n",
       "      <td>ham</td>\n",
       "      <td>U dun say so early hor... U c already then say...</td>\n",
       "    </tr>\n",
       "    <tr>\n",
       "      <th>4</th>\n",
       "      <td>ham</td>\n",
       "      <td>Nah I don't think he goes to usf, he lives aro...</td>\n",
       "    </tr>\n",
       "    <tr>\n",
       "      <th>...</th>\n",
       "      <td>...</td>\n",
       "      <td>...</td>\n",
       "    </tr>\n",
       "    <tr>\n",
       "      <th>5567</th>\n",
       "      <td>spam</td>\n",
       "      <td>This is the 2nd time we have tried 2 contact u...</td>\n",
       "    </tr>\n",
       "    <tr>\n",
       "      <th>5568</th>\n",
       "      <td>ham</td>\n",
       "      <td>Will Ì_ b going to esplanade fr home?</td>\n",
       "    </tr>\n",
       "    <tr>\n",
       "      <th>5569</th>\n",
       "      <td>ham</td>\n",
       "      <td>Pity, * was in mood for that. So...any other s...</td>\n",
       "    </tr>\n",
       "    <tr>\n",
       "      <th>5570</th>\n",
       "      <td>ham</td>\n",
       "      <td>The guy did some bitching but I acted like i'd...</td>\n",
       "    </tr>\n",
       "    <tr>\n",
       "      <th>5571</th>\n",
       "      <td>ham</td>\n",
       "      <td>Rofl. Its true to its name</td>\n",
       "    </tr>\n",
       "  </tbody>\n",
       "</table>\n",
       "<p>5572 rows × 2 columns</p>\n",
       "</div>"
      ],
      "text/plain": [
       "        v1                                                 v2\n",
       "0      ham  Go until jurong point, crazy.. Available only ...\n",
       "1      ham                      Ok lar... Joking wif u oni...\n",
       "2     spam  Free entry in 2 a wkly comp to win FA Cup fina...\n",
       "3      ham  U dun say so early hor... U c already then say...\n",
       "4      ham  Nah I don't think he goes to usf, he lives aro...\n",
       "...    ...                                                ...\n",
       "5567  spam  This is the 2nd time we have tried 2 contact u...\n",
       "5568   ham              Will Ì_ b going to esplanade fr home?\n",
       "5569   ham  Pity, * was in mood for that. So...any other s...\n",
       "5570   ham  The guy did some bitching but I acted like i'd...\n",
       "5571   ham                         Rofl. Its true to its name\n",
       "\n",
       "[5572 rows x 2 columns]"
      ]
     },
     "execution_count": 5,
     "metadata": {},
     "output_type": "execute_result"
    }
   ],
   "source": [
    "df"
   ]
  },
  {
   "cell_type": "markdown",
   "id": "593c72ba",
   "metadata": {},
   "source": [
    "Since v1 is categorical variable we want to convert to numerical variables for use in machine learning algorithms. Therefore, we replacing the string values 'spam' with 1 and the string values 'ham' with 0."
   ]
  },
  {
   "cell_type": "code",
   "execution_count": 6,
   "id": "7eb4afe8",
   "metadata": {
    "scrolled": true
   },
   "outputs": [
    {
     "data": {
      "text/html": [
       "<div>\n",
       "<style scoped>\n",
       "    .dataframe tbody tr th:only-of-type {\n",
       "        vertical-align: middle;\n",
       "    }\n",
       "\n",
       "    .dataframe tbody tr th {\n",
       "        vertical-align: top;\n",
       "    }\n",
       "\n",
       "    .dataframe thead th {\n",
       "        text-align: right;\n",
       "    }\n",
       "</style>\n",
       "<table border=\"1\" class=\"dataframe\">\n",
       "  <thead>\n",
       "    <tr style=\"text-align: right;\">\n",
       "      <th></th>\n",
       "      <th>v1</th>\n",
       "      <th>v2</th>\n",
       "    </tr>\n",
       "  </thead>\n",
       "  <tbody>\n",
       "    <tr>\n",
       "      <th>0</th>\n",
       "      <td>0</td>\n",
       "      <td>Go until jurong point, crazy.. Available only ...</td>\n",
       "    </tr>\n",
       "    <tr>\n",
       "      <th>1</th>\n",
       "      <td>0</td>\n",
       "      <td>Ok lar... Joking wif u oni...</td>\n",
       "    </tr>\n",
       "    <tr>\n",
       "      <th>2</th>\n",
       "      <td>1</td>\n",
       "      <td>Free entry in 2 a wkly comp to win FA Cup fina...</td>\n",
       "    </tr>\n",
       "    <tr>\n",
       "      <th>3</th>\n",
       "      <td>0</td>\n",
       "      <td>U dun say so early hor... U c already then say...</td>\n",
       "    </tr>\n",
       "    <tr>\n",
       "      <th>4</th>\n",
       "      <td>0</td>\n",
       "      <td>Nah I don't think he goes to usf, he lives aro...</td>\n",
       "    </tr>\n",
       "    <tr>\n",
       "      <th>...</th>\n",
       "      <td>...</td>\n",
       "      <td>...</td>\n",
       "    </tr>\n",
       "    <tr>\n",
       "      <th>5567</th>\n",
       "      <td>1</td>\n",
       "      <td>This is the 2nd time we have tried 2 contact u...</td>\n",
       "    </tr>\n",
       "    <tr>\n",
       "      <th>5568</th>\n",
       "      <td>0</td>\n",
       "      <td>Will Ì_ b going to esplanade fr home?</td>\n",
       "    </tr>\n",
       "    <tr>\n",
       "      <th>5569</th>\n",
       "      <td>0</td>\n",
       "      <td>Pity, * was in mood for that. So...any other s...</td>\n",
       "    </tr>\n",
       "    <tr>\n",
       "      <th>5570</th>\n",
       "      <td>0</td>\n",
       "      <td>The guy did some bitching but I acted like i'd...</td>\n",
       "    </tr>\n",
       "    <tr>\n",
       "      <th>5571</th>\n",
       "      <td>0</td>\n",
       "      <td>Rofl. Its true to its name</td>\n",
       "    </tr>\n",
       "  </tbody>\n",
       "</table>\n",
       "<p>5572 rows × 2 columns</p>\n",
       "</div>"
      ],
      "text/plain": [
       "      v1                                                 v2\n",
       "0      0  Go until jurong point, crazy.. Available only ...\n",
       "1      0                      Ok lar... Joking wif u oni...\n",
       "2      1  Free entry in 2 a wkly comp to win FA Cup fina...\n",
       "3      0  U dun say so early hor... U c already then say...\n",
       "4      0  Nah I don't think he goes to usf, he lives aro...\n",
       "...   ..                                                ...\n",
       "5567   1  This is the 2nd time we have tried 2 contact u...\n",
       "5568   0              Will Ì_ b going to esplanade fr home?\n",
       "5569   0  Pity, * was in mood for that. So...any other s...\n",
       "5570   0  The guy did some bitching but I acted like i'd...\n",
       "5571   0                         Rofl. Its true to its name\n",
       "\n",
       "[5572 rows x 2 columns]"
      ]
     },
     "execution_count": 6,
     "metadata": {},
     "output_type": "execute_result"
    }
   ],
   "source": [
    "df['v1'] = df['v1'].map({'spam':1, 'ham':0})\n",
    "df"
   ]
  },
  {
   "cell_type": "markdown",
   "id": "cf9ba60c",
   "metadata": {},
   "source": [
    "Import neccesary Libraries "
   ]
  },
  {
   "cell_type": "code",
   "execution_count": 7,
   "id": "6dd437a6",
   "metadata": {},
   "outputs": [],
   "source": [
    "import seaborn as sns\n",
    "import matplotlib.pyplot as plt\n",
    "\n",
    "from sklearn.feature_extraction.text import TfidfVectorizer\n",
    "from sklearn.model_selection import train_test_split\n",
    "from sklearn.feature_extraction.text import CountVectorizer\n",
    "\n",
    "\n",
    "from sklearn.svm import SVC\n",
    "from sklearn.linear_model import LogisticRegression\n",
    "from sklearn.naive_bayes import MultinomialNB\n",
    "from sklearn.metrics import roc_curve, auc\n",
    "from sklearn.model_selection import KFold, cross_val_score\n",
    "\n",
    "from sklearn.metrics import accuracy_score, confusion_matrix, precision_score, recall_score, f1_score"
   ]
  },
  {
   "cell_type": "code",
   "execution_count": 8,
   "id": "d4a4e6e4",
   "metadata": {},
   "outputs": [],
   "source": [
    "X_train, X_test, y_train, y_test = train_test_split(df['v2'], df['v1'], test_size=0.2, random_state=42)\n",
    "\n",
    "# Convert all elements in X_test to strings\n",
    "X_test = [str(x) for x in X_test]\n",
    "\n",
    "# Create a TfidfVectorizer to transform text data into numerical features\n",
    "vectorizer = TfidfVectorizer()\n",
    "X_train = vectorizer.fit_transform(X_train)\n",
    "X_test = vectorizer.transform(X_test)"
   ]
  },
  {
   "cell_type": "code",
   "execution_count": 9,
   "id": "8ec5d71f",
   "metadata": {},
   "outputs": [],
   "source": [
    "#SVM model\n",
    "model = SVC(kernel='linear', probability=True)\n",
    "model.fit(X_train, y_train)\n",
    "\n",
    "y_pred = model.predict(X_test)"
   ]
  },
  {
   "cell_type": "code",
   "execution_count": 10,
   "id": "a7ef4e7f",
   "metadata": {},
   "outputs": [
    {
     "name": "stdout",
     "output_type": "stream",
     "text": [
      "Accuracy: 98.3\n",
      "Confusion Matrix: [[963   2]\n",
      " [ 17 133]]\n",
      "SVM Precision: 98.52\n",
      "SVM Recall: 88.67\n",
      "SVM F1 score: 93.33\n"
     ]
    }
   ],
   "source": [
    "# Evaluate the performance of the SVM model\n",
    "print('Accuracy:', round(accuracy_score(y_test, y_pred)*100,2))\n",
    "print('Confusion Matrix:', confusion_matrix(y_test, y_pred))\n",
    "print('SVM Precision:', round(precision_score(y_test, y_pred)*100,2))\n",
    "print('SVM Recall:', round(recall_score(y_test, y_pred)*100,2))\n",
    "print('SVM F1 score:', round(f1_score(y_test, y_pred)*100,2))"
   ]
  },
  {
   "cell_type": "code",
   "execution_count": 11,
   "id": "0d7199c1",
   "metadata": {},
   "outputs": [
    {
     "data": {
      "image/png": "[encoded data removed]",
      "text/plain": [
       "<Figure size 432x288 with 2 Axes>"
      ]
     },
     "metadata": {
      "needs_background": "light"
     },
     "output_type": "display_data"
    }
   ],
   "source": [
    "# SVM model Heat Map\n",
    "svm_cm = confusion_matrix(y_test, y_pred)\n",
    "sns.heatmap(svm_cm, annot=True, cmap='Blues', fmt=\".3f\")\n",
    "plt.ylabel('Actual label');\n",
    "plt.xlabel('Predicted label');"
   ]
  },
  {
   "cell_type": "code",
   "execution_count": 12,
   "id": "d8a8629d",
   "metadata": {},
   "outputs": [
    {
     "data": {
      "image/png": "[encoded data removed]",
      "text/plain": [
       "<Figure size 432x288 with 1 Axes>"
      ]
     },
     "metadata": {
      "needs_background": "light"
     },
     "output_type": "display_data"
    }
   ],
   "source": [
    "#predicted probabilities SVM model\n",
    "svm_prob = model.predict_proba(X_test)[:, 1]\n",
    "\n",
    "#false positive rate, true positive rate, and AUC\n",
    "svm_fpr, svm_tpr, _ = roc_curve(y_test, svm_prob)\n",
    "svm_roc_auc = auc(svm_fpr, svm_tpr)\n",
    "\n",
    "#ROC curve\n",
    "plt.plot(svm_fpr, svm_tpr, color='red', lw=2, label='SVM (AUC = %0.2f)' % svm_roc_auc)\n",
    "plt.plot([0, 1], [0, 1], color='black', lw=2, linestyle='--')\n",
    "plt.xlim([0.0, 1.0])\n",
    "plt.ylim([0.0, 1.05])\n",
    "plt.xlabel('False Positive Rate')\n",
    "plt.ylabel('True Positive Rate')\n",
    "plt.title('ROC Curve')\n",
    "plt.legend(loc=\"lower right\")\n",
    "plt.show()\n"
   ]
  },
  {
   "cell_type": "markdown",
   "id": "2d927ecf",
   "metadata": {},
   "source": [
    "The AUC for SVM model is 0.99. Demostrating that the model has a very good ability to distinguish between positive and negative samples. The AUC ranges from 0 to 1, where 0.5 means that the model is randomly guessing and 1 means that the model perfectly separates the positive and negative samples. Therefore, an AUC of 0.99 indicates that the model has an excellent performance in terms of classification.\n",
    "\n",
    "The plot the ROC curve for the SVM model, shows a very high true positive rate for a low false positive rate, which is a desirable characteristic for a binary classification model."
   ]
  },
  {
   "cell_type": "markdown",
   "id": "5a871aaf",
   "metadata": {},
   "source": [
    "Explanation of the model performance\n",
    "\n",
    "Accuracy: The model achieved an accuracy of 0.98, which means that it correctly predicted 98.3% of the emails.\n",
    "\n",
    "Confusion matrix: The confusion matrix shows that the model correctly predicted 963 emails as ham and 133 emails as spam, but misclassified 2 ham emails as spam and 17 spam emails as ham.\n",
    "\n",
    "Precision: The precision of the model is 0.98, which means that out of all the emails predicted as spam, 98.5% were actually spam.\n",
    "\n",
    "Recall: The recall of the model is 0.88, which means that out of all the spam emails, the model correctly identified 88.7%.\n",
    "\n",
    "F1 score: The model is 0.93, which is a good indication that the model performs well on both precision and recall.\n",
    "\n",
    "Overall, these metrics suggest that the SVM model performs well in making correct predictions and is effective in distinguishing between spam and ham emails."
   ]
  },
  {
   "cell_type": "code",
   "execution_count": 13,
   "id": "68335619",
   "metadata": {},
   "outputs": [],
   "source": [
    "#Logistic regression model\n",
    "lr_clf = LogisticRegression()\n",
    "lr_clf.fit(X_train, y_train)\n",
    "\n",
    "y_pred1 = lr_clf.predict(X_test)"
   ]
  },
  {
   "cell_type": "code",
   "execution_count": 14,
   "id": "3e1ae1bd",
   "metadata": {},
   "outputs": [
    {
     "name": "stdout",
     "output_type": "stream",
     "text": [
      "Logistic Regression Accuracy: 96.59\n",
      "Confusion Matrix: [[964   1]\n",
      " [ 37 113]]\n",
      "Logistic Regression Precision: 99.12\n",
      "Logistic Regression Recall: 75.33\n",
      "Logistic Regression F1 score: 85.61\n"
     ]
    }
   ],
   "source": [
    "# Evaluate the performance of the Logistic Regression model\n",
    "print('Logistic Regression Accuracy:', round(accuracy_score(y_test, y_pred1)*100,2))\n",
    "print('Confusion Matrix:', confusion_matrix(y_test, y_pred1))\n",
    "print('Logistic Regression Precision:', round(precision_score(y_test, y_pred1)*100,2))\n",
    "print('Logistic Regression Recall:', round(recall_score(y_test, y_pred1)*100,2))\n",
    "print('Logistic Regression F1 score:', round(f1_score(y_test, y_pred1)*100,2))"
   ]
  },
  {
   "cell_type": "code",
   "execution_count": 15,
   "id": "5ae81333",
   "metadata": {},
   "outputs": [
    {
     "data": {
      "image/png": "[encoded data removed]",
      "text/plain": [
       "<Figure size 432x288 with 2 Axes>"
      ]
     },
     "metadata": {
      "needs_background": "light"
     },
     "output_type": "display_data"
    }
   ],
   "source": [
    "# Logistic Regression model Heat Map\n",
    "lr_cm = confusion_matrix(y_test, y_pred1)\n",
    "sns.heatmap(lr_cm, annot=True, cmap='Blues', fmt=\".3f\")\n",
    "plt.ylabel('Actual label');\n",
    "plt.xlabel('Predicted label');"
   ]
  },
  {
   "cell_type": "code",
   "execution_count": 16,
   "id": "9edf20b0",
   "metadata": {},
   "outputs": [
    {
     "data": {
      "image/png": "[encoded data removed]",
      "text/plain": [
       "<Figure size 432x288 with 1 Axes>"
      ]
     },
     "metadata": {
      "needs_background": "light"
     },
     "output_type": "display_data"
    }
   ],
   "source": [
    "#predicted probabilities Logistic Regression model\n",
    "lr_prob = lr_clf.predict_proba(X_test)\n",
    "\n",
    "fpr, tpr, thresholds = roc_curve(y_test, lr_prob[:, 1])\n",
    "roc_auc = auc(fpr, tpr)\n",
    "\n",
    "plt.plot(fpr, tpr, color='green', lw=2, label='Logistic Regression (AUC = %0.2f)' % roc_auc)\n",
    "plt.plot([0, 1], [0, 1], color='black', lw=2, linestyle='--')\n",
    "plt.xlim([0.0, 1.0])\n",
    "plt.ylim([0.0, 1.05])\n",
    "plt.xlabel('False Positive Rate')\n",
    "plt.ylabel('True Positive Rate')\n",
    "plt.title('ROC Curve')\n",
    "plt.legend(loc=\"lower right\")\n",
    "plt.show()\n"
   ]
  },
  {
   "cell_type": "markdown",
   "id": "e269e140",
   "metadata": {},
   "source": [
    "AUC is 0.98 for the Logistic Regression Model. This means that the model is able to correctly classify the majority of positive examples and has a low rate of falsely classifying negative examples as positive."
   ]
  },
  {
   "cell_type": "markdown",
   "id": "dc3c7dc7",
   "metadata": {},
   "source": [
    "The accuracy of the model is 0.9659 or 96.59%, meaning that the model was able to classify the majority of the observations correctly.\n",
    "\n",
    "The confusion matrix predicted 964 true positives and 113 true negatives. It incorrectly predicted 1(spam as a ham) false positive and 37 (ham as spam) false negatives.\n",
    "\n",
    "Precision is 0.9912 or 99.12%, indicating that when the model predicted a positive label, it was very likely to be correct.\n",
    "\n",
    "Recall is 0.7533 or 75.33%, indicating that the model correctly identified only 75.33% of the positive observations.\n",
    "\n",
    "The F1 score is 0.8560 or 85.60%, indicating that the model performs well overall but may not be optimal for all use cases."
   ]
  },
  {
   "cell_type": "code",
   "execution_count": 17,
   "id": "f314ee35",
   "metadata": {},
   "outputs": [],
   "source": [
    "#Naive Bayes model\n",
    "model_NB = MultinomialNB()\n",
    "model_NB.fit(X_train, y_train)\n",
    "\n",
    "\n",
    "y_pred2 = model_NB.predict(X_test)"
   ]
  },
  {
   "cell_type": "code",
   "execution_count": 18,
   "id": "a95ea1c9",
   "metadata": {},
   "outputs": [
    {
     "name": "stdout",
     "output_type": "stream",
     "text": [
      "Accuracy: 96.23\n",
      "Confusion Matrix: [[965   0]\n",
      " [ 42 108]]\n",
      "NB Precision: 100.0\n",
      "NB Recall: 72.0\n",
      "NB F1 score: 83.72\n"
     ]
    }
   ],
   "source": [
    "# Evaluate the performance of the Naive Bayes model\n",
    "print('Accuracy:', round(accuracy_score(y_test, y_pred2)*100,2))\n",
    "print('Confusion Matrix:', confusion_matrix(y_test, y_pred2))\n",
    "print('NB Precision:', round(precision_score(y_test, y_pred2)*100,2))\n",
    "print('NB Recall:', round(recall_score(y_test, y_pred2)*100,2))\n",
    "print('NB F1 score:', round(f1_score(y_test, y_pred2)*100,2))"
   ]
  },
  {
   "cell_type": "code",
   "execution_count": 19,
   "id": "73a14004",
   "metadata": {},
   "outputs": [
    {
     "data": {
      "image/png": "[encoded data removed]",
      "text/plain": [
       "<Figure size 432x288 with 2 Axes>"
      ]
     },
     "metadata": {
      "needs_background": "light"
     },
     "output_type": "display_data"
    }
   ],
   "source": [
    "# Naive Bayes model Heat Map \n",
    "nb_cm = confusion_matrix(y_test, y_pred2)\n",
    "sns.heatmap(nb_cm, annot=True, cmap='Blues', fmt=\".3f\")\n",
    "plt.ylabel('Actual label');\n",
    "plt.xlabel('Predicted label');"
   ]
  },
  {
   "cell_type": "code",
   "execution_count": 20,
   "id": "526a7c74",
   "metadata": {},
   "outputs": [
    {
     "data": {
      "image/png": "[encoded data removed]",
      "text/plain": [
       "<Figure size 432x288 with 1 Axes>"
      ]
     },
     "metadata": {
      "needs_background": "light"
     },
     "output_type": "display_data"
    }
   ],
   "source": [
    "#predicted probabilities Naive Bayes model\n",
    "nb_prob = model_NB.predict_proba(X_test)\n",
    "\n",
    "fpr, tpr, thresholds = roc_curve(y_test, nb_prob[:, 1])\n",
    "roc_auc = auc(fpr, tpr)\n",
    "\n",
    "\n",
    "plt.plot(fpr, tpr, color='blue', lw=2, label='Naive Bayes (AUC = %0.2f)' % roc_auc)\n",
    "plt.plot([0, 1], [0, 1], color='black', lw=2, linestyle='--')\n",
    "plt.xlim([0.0, 1.0])\n",
    "plt.ylim([0.0, 1.05])\n",
    "plt.xlabel('False Positive Rate')\n",
    "plt.ylabel('True Positive Rate')\n",
    "plt.title('ROC Curve')\n",
    "plt.legend(loc=\"lower right\")\n",
    "plt.show()"
   ]
  },
  {
   "cell_type": "markdown",
   "id": "de3e4062",
   "metadata": {},
   "source": [
    "The accuracy score is 96.23%, which means that 96.23% of the test instances were correctly classified by the model.\n",
    "\n",
    "The confusion matrix shows that there were 965 true negatives (instances that were actually negative and predicted as negative) and 108 true positives (instances that were actually positive and predicted as positive). There were also 0 false positives (instances that were actually negative but predicted as positive) and 42 false negatives (instances that were actually positive but predicted as negative).\n",
    "\n",
    "Precision score is 100%, which means that all the positive predictions made by the NB model were correct. \n",
    "\n",
    "Recall score is 72%, which means that the model correctly identified 72% of the actual positive instances. \n",
    "\n",
    "F1 score is a weighted harmonic mean of precision and recall, and it is 83.72% in this case.\n",
    "\n",
    "Overall, the NB model performed very well on the test set, achieving a high accuracy and precision score. However, the recall score is relatively low, indicating that the model may have missed some positive instances."
   ]
  },
  {
   "cell_type": "markdown",
   "id": "a05fb458",
   "metadata": {},
   "source": [
    "##### Concluding on the models prediction based on metrics result"
   ]
  },
  {
   "cell_type": "markdown",
   "id": "424a2230",
   "metadata": {},
   "source": [
    "Based on result from the metrics, the SVM model seems to be the best model for the classification of spam emails. The SVM model has the highest accuracy of 98.3%, which means it correctly classified 98.3% of the emails as spam or not spam.\n",
    "\n",
    "Moreover, when looking at the confusion matrix, the SVM model has only 2 misclassifications out of 1115 total test cases, which is very low. It correctly classified 963 non-spam emails and 133 spam emails, with only 2 non-spam emails being classified as spam and 17 spam emails being classified as non-spam.\n",
    "\n",
    "Looking at precision, recall, and F1 score, the SVM model also outperforms the other two models. It has the highest precision of 98.52%, which means that out of all the emails classified as spam by the model, 98.52% of them were actually spam. It also has the highest recall of 88.67%, which means that out of all the actual spam emails, the model correctly identified 88.67% of them as spam. Finally, it has the highest F1 score of 93.33%, which is a harmonic mean of precision and recall.\n",
    "\n",
    "In comparison, the Logistic Regression model has a lower accuracy of 96.59%, with 38 misclassifications, and a lower recall of 75.33%, meaning it identified fewer actual spam emails as spam. The Naive Bayes model also has a lower accuracy of 96.23% and a lower recall of 72.0%.\n",
    "\n",
    "Therefore, based on these metrics, we can conclude that the SVM model performs the best for the classification of spam emails."
   ]
  },
  {
   "cell_type": "markdown",
   "id": "cd58f68f",
   "metadata": {},
   "source": [
    "#### Evaluating the three Models(Cross Validation)"
   ]
  },
  {
   "cell_type": "code",
   "execution_count": 21,
   "id": "553ae3b9",
   "metadata": {},
   "outputs": [],
   "source": [
    "X = df[\"v2\"]\n",
    "y = df[\"v1\"]\n",
    "\n",
    "X = [str(x) for x in X]\n",
    "# Create a CountVectorizer object\n",
    "vectorizer = CountVectorizer()\n",
    "\n",
    "# Convert text data to numerical vectors\n",
    "X = vectorizer.fit_transform(X)\n",
    "\n",
    "kfold = KFold(n_splits=10, shuffle=True, random_state=42)"
   ]
  },
  {
   "cell_type": "code",
   "execution_count": 22,
   "id": "a156242d",
   "metadata": {},
   "outputs": [],
   "source": [
    "svm_accuracy = cross_val_score(model, X, y, cv=kfold, scoring=\"accuracy\")\n",
    "svm_precision = cross_val_score(model, X, y, cv=kfold, scoring=\"precision\")\n",
    "svm_recall = cross_val_score(model, X, y, cv=kfold, scoring=\"recall\")\n",
    "svm_f1 = cross_val_score(model, X, y, cv=kfold, scoring=\"f1\")"
   ]
  },
  {
   "cell_type": "code",
   "execution_count": 23,
   "id": "1690a0a6",
   "metadata": {},
   "outputs": [],
   "source": [
    "lr_accuracy = cross_val_score(lr_clf, X, y, cv=kfold, scoring=\"accuracy\")\n",
    "lr_precision = cross_val_score(lr_clf, X, y, cv=kfold, scoring=\"precision\")\n",
    "lr_recall = cross_val_score(lr_clf, X, y, cv=kfold, scoring=\"recall\")\n",
    "lr_f1 = cross_val_score(lr_clf, X, y, cv=kfold, scoring=\"f1\")"
   ]
  },
  {
   "cell_type": "code",
   "execution_count": 24,
   "id": "2eb35333",
   "metadata": {},
   "outputs": [],
   "source": [
    "nb_accuracy = cross_val_score(model_NB, X, y, cv=kfold, scoring=\"accuracy\")\n",
    "nb_precision = cross_val_score(model_NB, X, y, cv=kfold, scoring=\"precision\")\n",
    "nb_recall = cross_val_score(model_NB, X, y, cv=kfold, scoring=\"recall\")\n",
    "nb_f1 = cross_val_score(model_NB, X, y, cv=kfold, scoring=\"f1\")"
   ]
  },
  {
   "cell_type": "code",
   "execution_count": 25,
   "id": "2db037c8",
   "metadata": {},
   "outputs": [
    {
     "name": "stdout",
     "output_type": "stream",
     "text": [
      "SVM Accuracy: 98.33\n",
      "SVM Precision: 98.42\n",
      "SVM Recall: 88.97\n",
      "SVM F1 score: 93.4\n",
      "Logistic Regression Accuracy: 98.31\n",
      "Logistic Regression Precision: 98.81\n",
      "Logistic Regression Recall: 88.59\n",
      "Logistic Regression F1 score: 93.35\n",
      "Naive Bayes Accuracy: 98.12\n",
      "Naive Bayes Precision: 91.7\n",
      "Naive Bayes Recall: 94.59\n",
      "Naive Bayes F1 score: 93.06\n"
     ]
    }
   ],
   "source": [
    "print(\"SVM Accuracy:\", round(svm_accuracy.mean()*100,2))\n",
    "print(\"SVM Precision:\", round(svm_precision.mean()*100,2))\n",
    "print(\"SVM Recall:\", round(svm_recall.mean()*100,2))\n",
    "print(\"SVM F1 score:\", round(svm_f1.mean()*100,2))\n",
    "\n",
    "print(\"Logistic Regression Accuracy:\", round(lr_accuracy.mean()*100,2))\n",
    "print(\"Logistic Regression Precision:\", round(lr_precision.mean()*100,2))\n",
    "print(\"Logistic Regression Recall:\", round(lr_recall.mean()*100,2))\n",
    "print(\"Logistic Regression F1 score:\", round(lr_f1.mean()*100,2))\n",
    "\n",
    "print(\"Naive Bayes Accuracy:\", round(nb_accuracy.mean()*100,2))\n",
    "print(\"Naive Bayes Precision:\", round(nb_precision.mean()*100,2))\n",
    "print(\"Naive Bayes Recall:\", round(nb_recall.mean()*100,2))\n",
    "print(\"Naive Bayes F1 score:\", round(nb_f1.mean()*100,2))"
   ]
  },
  {
   "cell_type": "markdown",
   "id": "2fb6c54e",
   "metadata": {},
   "source": [
    "The results obtained through cross-validation show that all three models have high accuracy in predicting whether an email is spam or not.\n",
    "\n",
    "The SVM and logistic regression models have similar accuracy, precision, and F1 scores, with SVM having slightly better recall than logistic regression. This means that SVM is better at identifying actual spam emails, while logistic regression is better at avoiding false positives.\n",
    "\n",
    "The Naive Bayes model has slightly lower accuracy, precision, and F1 score than SVM and logistic regression, but it has the highest recall. This means that Naive Bayes is good at identifying actual spam emails, but it may also classify some non-spam emails as spam.\n",
    "\n",
    "Overall, all three models have high performance in predicting spam emails, but their performance varies in terms of precision, recall, and F1 score, which depend on the specific business needs and priorities."
   ]
  }
 ],
 "metadata": {
  "kernelspec": {
   "display_name": "Python 3 (ipykernel)",
   "language": "python",
   "name": "python3"
  },
  "language_info": {
   "codemirror_mode": {
    "name": "ipython",
    "version": 3
   },
   "file_extension": ".py",
   "mimetype": "text/x-python",
   "name": "python",
   "nbconvert_exporter": "python",
   "pygments_lexer": "ipython3",
   "version": "3.9.12"
  }
 },
 "nbformat": 4,
 "nbformat_minor": 5
}
